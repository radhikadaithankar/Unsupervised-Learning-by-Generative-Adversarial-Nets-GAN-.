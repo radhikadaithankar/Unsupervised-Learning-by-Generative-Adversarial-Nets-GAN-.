{
 "cells": [
  {
   "cell_type": "code",
   "execution_count": 72,
   "id": "18faf343-d1a6-4444-b818-64a40ee11835",
   "metadata": {
    "tags": []
   },
   "outputs": [],
   "source": [
    "import os\n",
    "import pickle\n",
    "import time\n",
    "\n",
    "import matplotlib.pyplot as plt\n",
    "import numpy as np\n",
    "import torch\n",
    "import torch.nn as nn\n",
    "import torchvision.datasets as datasets\n",
    "import torchvision.transforms as transforms\n",
    "from torch.utils.data import DataLoader\n",
    "from tqdm import tqdm"
   ]
  },
  {
   "cell_type": "code",
   "execution_count": 73,
   "id": "7933d845-ef26-4b97-b340-93aff3dd6f1f",
   "metadata": {
    "tags": []
   },
   "outputs": [],
   "source": [
    "class Generator(nn.Module):\n",
    "    \"\"\"Image generator\n",
    "    \n",
    "    Takes a noise vector as input and syntheses a single channel image accordingly\n",
    "    \"\"\"\n",
    "\n",
    "    def __init__(self, input_dims, output_dims):\n",
    "        \"\"\"Init function\n",
    "        \n",
    "        Declare the network structure as indicated in CW2 Guidance\n",
    "        \n",
    "        Arguments:\n",
    "            input_dims {int} -- Dimension of input noise vector\n",
    "            output_dims {int} -- Dimension of the output vector (flatten image)\n",
    "        \"\"\"\n",
    "        super(Generator, self).__init__()\n",
    "        ###  TODO: Change the architecture and value as CW2 Guidance required\n",
    "        self.fc0 = nn.Sequential(nn.Linear(input_dims, 256), nn.LeakyReLU(0.2))\n",
    "        \n",
    "        self.fc1 = nn.Sequential(nn.Linear(256, 512), nn.LeakyReLU(0.2))\n",
    "        \n",
    "        self.fc2 = nn.Sequential(nn.Linear(512, 1024), nn.LeakyReLU(0.2))\n",
    "        #output hidden layer \n",
    "        self.fc3 = nn.Sequential(nn.Linear(1024, output_dims), nn.Tanh())\n",
    "\n",
    "    def forward(self, x):\n",
    "        \"\"\"Forward function\n",
    "        \n",
    "        Arguments:\n",
    "            x {Tensor} -- a batch of noise vectors in shape (<batch_size>x<input_dims>)\n",
    "        \n",
    "        Returns:\n",
    "            Tensor -- a batch of flatten image in shape (<batch_size>x<output_dims>)\n",
    "        \"\"\"\n",
    "        ###  TODO: modify to be consistent with the network structure\n",
    "        x = self.fc0(x)\n",
    "        x = self.fc1(x)\n",
    "        x = self.fc2(x)\n",
    "        x = self.fc3(x)\n",
    "        return x"
   ]
  },
  {
   "cell_type": "code",
   "execution_count": 74,
   "id": "9e8505b5-4f8d-4ad0-8c43-7279ee084284",
   "metadata": {
    "tags": []
   },
   "outputs": [],
   "source": [
    "class Discriminator(nn.Module):\n",
    "    \"\"\"Image discriminator\n",
    "    \n",
    "    Takes a image as input and predict if it is real from the dataset or fake synthesised by the generator\n",
    "    \"\"\"\n",
    "\n",
    "    def __init__(self, input_dims, output_dims=1):\n",
    "        \"\"\"Init function\n",
    "        \n",
    "        Declare the discriminator network structure as indicated in CW2 Guidance\n",
    "        \n",
    "        Arguments:\n",
    "            input_dims {int} -- Dimension of the flatten input images\n",
    "        \n",
    "        Keyword Arguments:\n",
    "            output_dims {int} -- Predicted probability (default: {1})\n",
    "        \"\"\"\n",
    "        super(Discriminator, self).__init__()\n",
    "\n",
    "        ###  TODO: Change the architecture and value as CW2 Guidance required\n",
    "        self.fc0 = nn.Sequential(\n",
    "            nn.Linear(input_dims, 1024),\n",
    "            nn.LeakyReLU(0.2),\n",
    "        )\n",
    "        self.fc1 = nn.Sequential(\n",
    "            nn.Linear(1024, 512),\n",
    "            nn.LeakyReLU(0.2),\n",
    "        )\n",
    "        self.fc2 = nn.Sequential(\n",
    "            nn.Linear(512, 256),\n",
    "            nn.LeakyReLU(0.2),\n",
    "        )\n",
    "        self.fc3 = nn.Sequential(\n",
    "            nn.Linear(256, 1),\n",
    "            nn.Sigmoid()\n",
    "        )        \n",
    "        \n",
    "    def forward(self, x):\n",
    "        \"\"\"Forward function\n",
    "        \n",
    "        Arguments:\n",
    "            x {Tensor} -- a batch of 2D image in shape (<batch_size>xHxW)\n",
    "        \n",
    "        Returns:\n",
    "            Tensor -- predicted probabilities (<batch_size>)\n",
    "        \"\"\"\n",
    "        ###  TODO: modify to be consistent with the network structure\n",
    "\n",
    "        x = self.fc0(x)\n",
    "        x = self.fc1(x)\n",
    "        x = self.fc2(x)\n",
    "        x = self.fc3(x)\n",
    "        return x"
   ]
  },
  {
   "cell_type": "code",
   "execution_count": 75,
   "id": "97c47952-fae3-4cf5-9e9c-56c118ea2e57",
   "metadata": {
    "tags": []
   },
   "outputs": [],
   "source": [
    "def show_result(G_net, z_, num_epoch, show=False, save=False, path='result.png'):\n",
    "    \"\"\"Result visualisation\n",
    "    \n",
    "    Show and save the generated figures in the grid fashion\n",
    "    \n",
    "    Arguments:\n",
    "        G_net {[nn.Module]} -- The generator instant\n",
    "        z_ {[Tensor]} -- Input noise vectors\n",
    "        num_epoch {[int]} -- Indicate how many epoch has the generator been trained\n",
    "    \n",
    "    Keyword Arguments:\n",
    "        show {bool} -- If to display the images (default: {False})\n",
    "        save {bool} -- If to store the images (default: {False})\n",
    "        path {str} -- path to store the images (default: {'result.png'})\n",
    "    \"\"\"\n",
    "\n",
    "    ###  TODO: complete the rest of part\n",
    "    # hint: use plt.subplots to construct grid\n",
    "    # hint: use a 5*5 grid to show all images \n",
    "    # hint: use plt.imshow and plt.savefig to display and store the images\n",
    "    \n",
    "    fig = plt.figure(figsize=(10,10))\n",
    "    for i in range(z_.shape[0]):\n",
    "        ax = fig.add_subplot(5,5,i+1,xticks=[], yticks=[])\n",
    "        current_input = z_[i];\n",
    "        image = G_net(current_input)\n",
    "        image = torch.reshape(image, (28,28))\n",
    "        image = image.cpu().detach().numpy()\n",
    "        ax.imshow(image, cmap = 'gray')\n",
    "    fig.savefig(path)\n",
    "    plt.close(fig)"
   ]
  },
  {
   "cell_type": "code",
   "execution_count": 76,
   "id": "de98fa73-ef94-4927-9cff-bed2c5aaa74a",
   "metadata": {
    "tags": []
   },
   "outputs": [],
   "source": [
    "def show_train_hist(hist, show=False, save=False, path='Train_hist.png'):\n",
    "    \"\"\"Loss tracker\n",
    "    \n",
    "    Plot the losses of generator and discriminator independently to see the trend\n",
    "    \n",
    "    Arguments:\n",
    "        hist {[dict]} -- Tracking variables\n",
    "    \n",
    "    Keyword Arguments:\n",
    "        show {bool} -- If to display the figure (default: {False})\n",
    "        save {bool} -- If to store the figure (default: {False})\n",
    "        path {str} -- path to store the figure (default: {'Train_hist.png'})\n",
    "    \"\"\"\n",
    "    x = range(len(hist['D_losses']))\n",
    "\n",
    "    y1 = hist['D_losses']\n",
    "    y2 = hist['G_losses']\n",
    "\n",
    "    plt.plot(x, y1, label='D_loss')\n",
    "    plt.plot(x, y2, label='G_loss')\n",
    "\n",
    "    plt.xlabel('Epoch')\n",
    "    plt.ylabel('Loss')\n",
    "\n",
    "    plt.legend(loc=4)\n",
    "    plt.grid(True)\n",
    "    plt.tight_layout()\n",
    "\n",
    "    if save:\n",
    "        plt.savefig(path)\n",
    "\n",
    "    if show:\n",
    "        plt.show()\n",
    "    else:\n",
    "        plt.close()"
   ]
  },
  {
   "cell_type": "code",
   "execution_count": 77,
   "id": "5e3b541e-eef1-4aec-bdd5-e547982293e7",
   "metadata": {
    "tags": []
   },
   "outputs": [],
   "source": [
    "def create_noise(num, dim):\n",
    "    \"\"\"Noise constructor\n",
    "    \n",
    "    returns a tensor filled with random numbers from a standard normal distribution\n",
    "    \n",
    "    Arguments:\n",
    "        num {int} -- Number of vectors\n",
    "        dim {int} -- Dimension of vectors\n",
    "    \n",
    "    Returns:\n",
    "        [Tensor] -- the generated noise vector batch\n",
    "    \"\"\"\n",
    "    return torch.randn(num, dim)"
   ]
  },
  {
   "cell_type": "code",
   "execution_count": 78,
   "id": "abc051ff-75d3-4776-934a-0061ac504f15",
   "metadata": {
    "tags": []
   },
   "outputs": [
    {
     "name": "stderr",
     "output_type": "stream",
     "text": [
      "100%|██████████| 600/600 [00:15<00:00, 38.17it/s]\n"
     ]
    },
    {
     "name": "stdout",
     "output_type": "stream",
     "text": [
      "Epoch 1 of 100 with 15.72 s\n",
      "Generator loss: 4.69850944, Discriminator loss: 0.58874658\n"
     ]
    },
    {
     "name": "stderr",
     "output_type": "stream",
     "text": [
      "100%|██████████| 600/600 [00:15<00:00, 39.07it/s]\n"
     ]
    },
    {
     "name": "stdout",
     "output_type": "stream",
     "text": [
      "Epoch 2 of 100 with 15.36 s\n",
      "Generator loss: 6.22090718, Discriminator loss: 0.61869500\n"
     ]
    },
    {
     "name": "stderr",
     "output_type": "stream",
     "text": [
      "100%|██████████| 600/600 [00:15<00:00, 38.32it/s]\n"
     ]
    },
    {
     "name": "stdout",
     "output_type": "stream",
     "text": [
      "Epoch 3 of 100 with 15.66 s\n",
      "Generator loss: 8.04297968, Discriminator loss: 1.08400611\n"
     ]
    },
    {
     "name": "stderr",
     "output_type": "stream",
     "text": [
      "100%|██████████| 600/600 [00:16<00:00, 37.44it/s]\n"
     ]
    },
    {
     "name": "stdout",
     "output_type": "stream",
     "text": [
      "Epoch 4 of 100 with 16.03 s\n",
      "Generator loss: 5.86700218, Discriminator loss: 1.10207429\n"
     ]
    },
    {
     "name": "stderr",
     "output_type": "stream",
     "text": [
      "100%|██████████| 600/600 [00:13<00:00, 43.32it/s]\n"
     ]
    },
    {
     "name": "stdout",
     "output_type": "stream",
     "text": [
      "Epoch 5 of 100 with 13.85 s\n",
      "Generator loss: 4.13107723, Discriminator loss: 1.18296640\n"
     ]
    },
    {
     "name": "stderr",
     "output_type": "stream",
     "text": [
      "100%|██████████| 600/600 [00:16<00:00, 37.28it/s]\n"
     ]
    },
    {
     "name": "stdout",
     "output_type": "stream",
     "text": [
      "Epoch 6 of 100 with 16.16 s\n",
      "Generator loss: 5.40950016, Discriminator loss: 1.07110046\n"
     ]
    },
    {
     "name": "stderr",
     "output_type": "stream",
     "text": [
      "100%|██████████| 600/600 [00:15<00:00, 38.01it/s]\n"
     ]
    },
    {
     "name": "stdout",
     "output_type": "stream",
     "text": [
      "Epoch 7 of 100 with 15.79 s\n",
      "Generator loss: 3.52752390, Discriminator loss: 1.36719899\n"
     ]
    },
    {
     "name": "stderr",
     "output_type": "stream",
     "text": [
      "100%|██████████| 600/600 [00:15<00:00, 37.51it/s]\n"
     ]
    },
    {
     "name": "stdout",
     "output_type": "stream",
     "text": [
      "Epoch 8 of 100 with 16.00 s\n",
      "Generator loss: 1.67472488, Discriminator loss: 1.18393978\n"
     ]
    },
    {
     "name": "stderr",
     "output_type": "stream",
     "text": [
      "100%|██████████| 600/600 [00:15<00:00, 37.53it/s]\n"
     ]
    },
    {
     "name": "stdout",
     "output_type": "stream",
     "text": [
      "Epoch 9 of 100 with 15.99 s\n",
      "Generator loss: 2.55867769, Discriminator loss: 1.25031723\n"
     ]
    },
    {
     "name": "stderr",
     "output_type": "stream",
     "text": [
      "100%|██████████| 600/600 [00:14<00:00, 42.72it/s]\n"
     ]
    },
    {
     "name": "stdout",
     "output_type": "stream",
     "text": [
      "Epoch 10 of 100 with 14.05 s\n",
      "Generator loss: 5.50629803, Discriminator loss: 1.21333086\n"
     ]
    },
    {
     "name": "stderr",
     "output_type": "stream",
     "text": [
      "100%|██████████| 600/600 [00:15<00:00, 39.73it/s]\n"
     ]
    },
    {
     "name": "stdout",
     "output_type": "stream",
     "text": [
      "Epoch 11 of 100 with 15.11 s\n",
      "Generator loss: 1.80245401, Discriminator loss: 1.25882661\n"
     ]
    },
    {
     "name": "stderr",
     "output_type": "stream",
     "text": [
      "100%|██████████| 600/600 [00:15<00:00, 37.94it/s]\n"
     ]
    },
    {
     "name": "stdout",
     "output_type": "stream",
     "text": [
      "Epoch 12 of 100 with 15.82 s\n",
      "Generator loss: 1.93022644, Discriminator loss: 1.15886177\n"
     ]
    },
    {
     "name": "stderr",
     "output_type": "stream",
     "text": [
      "100%|██████████| 600/600 [00:13<00:00, 44.46it/s]\n"
     ]
    },
    {
     "name": "stdout",
     "output_type": "stream",
     "text": [
      "Epoch 13 of 100 with 13.50 s\n",
      "Generator loss: 2.08967488, Discriminator loss: 1.00521373\n"
     ]
    },
    {
     "name": "stderr",
     "output_type": "stream",
     "text": [
      "100%|██████████| 600/600 [00:15<00:00, 40.00it/s]\n"
     ]
    },
    {
     "name": "stdout",
     "output_type": "stream",
     "text": [
      "Epoch 14 of 100 with 15.00 s\n",
      "Generator loss: 1.88044753, Discriminator loss: 1.03515993\n"
     ]
    },
    {
     "name": "stderr",
     "output_type": "stream",
     "text": [
      "100%|██████████| 600/600 [00:12<00:00, 49.49it/s]\n"
     ]
    },
    {
     "name": "stdout",
     "output_type": "stream",
     "text": [
      "Epoch 15 of 100 with 12.13 s\n",
      "Generator loss: 2.49011872, Discriminator loss: 0.77469480\n"
     ]
    },
    {
     "name": "stderr",
     "output_type": "stream",
     "text": [
      "100%|██████████| 600/600 [00:16<00:00, 37.31it/s]\n"
     ]
    },
    {
     "name": "stdout",
     "output_type": "stream",
     "text": [
      "Epoch 16 of 100 with 16.08 s\n",
      "Generator loss: 2.67986511, Discriminator loss: 0.84912428\n"
     ]
    },
    {
     "name": "stderr",
     "output_type": "stream",
     "text": [
      "100%|██████████| 600/600 [00:16<00:00, 37.22it/s]\n"
     ]
    },
    {
     "name": "stdout",
     "output_type": "stream",
     "text": [
      "Epoch 17 of 100 with 16.13 s\n",
      "Generator loss: 2.40336096, Discriminator loss: 0.80496032\n"
     ]
    },
    {
     "name": "stderr",
     "output_type": "stream",
     "text": [
      "100%|██████████| 600/600 [00:15<00:00, 37.55it/s]\n"
     ]
    },
    {
     "name": "stdout",
     "output_type": "stream",
     "text": [
      "Epoch 18 of 100 with 15.98 s\n",
      "Generator loss: 2.44322885, Discriminator loss: 0.83935196\n"
     ]
    },
    {
     "name": "stderr",
     "output_type": "stream",
     "text": [
      "100%|██████████| 600/600 [00:16<00:00, 37.08it/s]\n"
     ]
    },
    {
     "name": "stdout",
     "output_type": "stream",
     "text": [
      "Epoch 19 of 100 with 16.19 s\n",
      "Generator loss: 2.50260790, Discriminator loss: 0.79647477\n"
     ]
    },
    {
     "name": "stderr",
     "output_type": "stream",
     "text": [
      "100%|██████████| 600/600 [00:15<00:00, 37.75it/s]\n"
     ]
    },
    {
     "name": "stdout",
     "output_type": "stream",
     "text": [
      "Epoch 20 of 100 with 15.90 s\n",
      "Generator loss: 2.28798256, Discriminator loss: 0.81958526\n"
     ]
    },
    {
     "name": "stderr",
     "output_type": "stream",
     "text": [
      "100%|██████████| 600/600 [00:16<00:00, 36.89it/s]\n"
     ]
    },
    {
     "name": "stdout",
     "output_type": "stream",
     "text": [
      "Epoch 21 of 100 with 16.27 s\n",
      "Generator loss: 2.22694124, Discriminator loss: 0.86682959\n"
     ]
    },
    {
     "name": "stderr",
     "output_type": "stream",
     "text": [
      "100%|██████████| 600/600 [00:16<00:00, 36.68it/s]\n"
     ]
    },
    {
     "name": "stdout",
     "output_type": "stream",
     "text": [
      "Epoch 22 of 100 with 16.36 s\n",
      "Generator loss: 2.10950068, Discriminator loss: 0.77906674\n"
     ]
    },
    {
     "name": "stderr",
     "output_type": "stream",
     "text": [
      "100%|██████████| 600/600 [00:16<00:00, 37.11it/s]\n"
     ]
    },
    {
     "name": "stdout",
     "output_type": "stream",
     "text": [
      "Epoch 23 of 100 with 16.17 s\n",
      "Generator loss: 2.22414730, Discriminator loss: 0.87841733\n"
     ]
    },
    {
     "name": "stderr",
     "output_type": "stream",
     "text": [
      "100%|██████████| 600/600 [00:16<00:00, 37.41it/s]\n"
     ]
    },
    {
     "name": "stdout",
     "output_type": "stream",
     "text": [
      "Epoch 24 of 100 with 16.04 s\n",
      "Generator loss: 2.07804708, Discriminator loss: 0.88250890\n"
     ]
    },
    {
     "name": "stderr",
     "output_type": "stream",
     "text": [
      "100%|██████████| 600/600 [00:15<00:00, 39.55it/s]\n"
     ]
    },
    {
     "name": "stdout",
     "output_type": "stream",
     "text": [
      "Epoch 25 of 100 with 15.18 s\n",
      "Generator loss: 2.25429059, Discriminator loss: 0.78962503\n"
     ]
    },
    {
     "name": "stderr",
     "output_type": "stream",
     "text": [
      "100%|██████████| 600/600 [00:15<00:00, 37.57it/s]\n"
     ]
    },
    {
     "name": "stdout",
     "output_type": "stream",
     "text": [
      "Epoch 26 of 100 with 15.97 s\n",
      "Generator loss: 2.23958205, Discriminator loss: 0.80282463\n"
     ]
    },
    {
     "name": "stderr",
     "output_type": "stream",
     "text": [
      "100%|██████████| 600/600 [00:15<00:00, 38.75it/s]\n"
     ]
    },
    {
     "name": "stdout",
     "output_type": "stream",
     "text": [
      "Epoch 27 of 100 with 15.49 s\n",
      "Generator loss: 2.26826229, Discriminator loss: 0.82820998\n"
     ]
    },
    {
     "name": "stderr",
     "output_type": "stream",
     "text": [
      "100%|██████████| 600/600 [00:14<00:00, 42.73it/s]\n"
     ]
    },
    {
     "name": "stdout",
     "output_type": "stream",
     "text": [
      "Epoch 28 of 100 with 14.05 s\n",
      "Generator loss: 2.44557234, Discriminator loss: 0.81041559\n"
     ]
    },
    {
     "name": "stderr",
     "output_type": "stream",
     "text": [
      "100%|██████████| 600/600 [00:15<00:00, 39.38it/s]\n"
     ]
    },
    {
     "name": "stdout",
     "output_type": "stream",
     "text": [
      "Epoch 29 of 100 with 15.24 s\n",
      "Generator loss: 2.43857271, Discriminator loss: 0.70067050\n"
     ]
    },
    {
     "name": "stderr",
     "output_type": "stream",
     "text": [
      "100%|██████████| 600/600 [00:15<00:00, 38.18it/s]\n"
     ]
    },
    {
     "name": "stdout",
     "output_type": "stream",
     "text": [
      "Epoch 30 of 100 with 15.72 s\n",
      "Generator loss: 2.28034957, Discriminator loss: 0.75087903\n"
     ]
    },
    {
     "name": "stderr",
     "output_type": "stream",
     "text": [
      "100%|██████████| 600/600 [00:16<00:00, 37.36it/s]\n"
     ]
    },
    {
     "name": "stdout",
     "output_type": "stream",
     "text": [
      "Epoch 31 of 100 with 16.06 s\n",
      "Generator loss: 2.19446481, Discriminator loss: 0.77828139\n"
     ]
    },
    {
     "name": "stderr",
     "output_type": "stream",
     "text": [
      "100%|██████████| 600/600 [00:15<00:00, 39.02it/s]\n"
     ]
    },
    {
     "name": "stdout",
     "output_type": "stream",
     "text": [
      "Epoch 32 of 100 with 15.38 s\n",
      "Generator loss: 2.23596025, Discriminator loss: 0.75797322\n"
     ]
    },
    {
     "name": "stderr",
     "output_type": "stream",
     "text": [
      "100%|██████████| 600/600 [00:16<00:00, 37.38it/s]\n"
     ]
    },
    {
     "name": "stdout",
     "output_type": "stream",
     "text": [
      "Epoch 33 of 100 with 16.06 s\n",
      "Generator loss: 2.39332122, Discriminator loss: 0.74196805\n"
     ]
    },
    {
     "name": "stderr",
     "output_type": "stream",
     "text": [
      "100%|██████████| 600/600 [00:13<00:00, 43.14it/s]\n"
     ]
    },
    {
     "name": "stdout",
     "output_type": "stream",
     "text": [
      "Epoch 34 of 100 with 13.91 s\n",
      "Generator loss: 2.34582734, Discriminator loss: 0.73757309\n"
     ]
    },
    {
     "name": "stderr",
     "output_type": "stream",
     "text": [
      "100%|██████████| 600/600 [00:14<00:00, 41.45it/s]\n"
     ]
    },
    {
     "name": "stdout",
     "output_type": "stream",
     "text": [
      "Epoch 35 of 100 with 14.48 s\n",
      "Generator loss: 2.52154143, Discriminator loss: 0.64257184\n"
     ]
    },
    {
     "name": "stderr",
     "output_type": "stream",
     "text": [
      "100%|██████████| 600/600 [00:16<00:00, 36.97it/s]\n"
     ]
    },
    {
     "name": "stdout",
     "output_type": "stream",
     "text": [
      "Epoch 36 of 100 with 16.23 s\n",
      "Generator loss: 2.23552572, Discriminator loss: 0.71520019\n"
     ]
    },
    {
     "name": "stderr",
     "output_type": "stream",
     "text": [
      "100%|██████████| 600/600 [00:14<00:00, 40.76it/s]\n"
     ]
    },
    {
     "name": "stdout",
     "output_type": "stream",
     "text": [
      "Epoch 37 of 100 with 14.72 s\n",
      "Generator loss: 2.30145917, Discriminator loss: 0.71831698\n"
     ]
    },
    {
     "name": "stderr",
     "output_type": "stream",
     "text": [
      "100%|██████████| 600/600 [00:16<00:00, 37.45it/s]\n"
     ]
    },
    {
     "name": "stdout",
     "output_type": "stream",
     "text": [
      "Epoch 38 of 100 with 16.03 s\n",
      "Generator loss: 2.17495177, Discriminator loss: 0.73069613\n"
     ]
    },
    {
     "name": "stderr",
     "output_type": "stream",
     "text": [
      "100%|██████████| 600/600 [00:14<00:00, 41.95it/s]\n"
     ]
    },
    {
     "name": "stdout",
     "output_type": "stream",
     "text": [
      "Epoch 39 of 100 with 14.31 s\n",
      "Generator loss: 2.10745364, Discriminator loss: 0.74889924\n"
     ]
    },
    {
     "name": "stderr",
     "output_type": "stream",
     "text": [
      "100%|██████████| 600/600 [00:14<00:00, 40.03it/s]\n"
     ]
    },
    {
     "name": "stdout",
     "output_type": "stream",
     "text": [
      "Epoch 40 of 100 with 14.99 s\n",
      "Generator loss: 2.12019068, Discriminator loss: 0.75829608\n"
     ]
    },
    {
     "name": "stderr",
     "output_type": "stream",
     "text": [
      "100%|██████████| 600/600 [00:16<00:00, 37.07it/s]\n"
     ]
    },
    {
     "name": "stdout",
     "output_type": "stream",
     "text": [
      "Epoch 41 of 100 with 16.19 s\n",
      "Generator loss: 2.05407948, Discriminator loss: 0.77196447\n"
     ]
    },
    {
     "name": "stderr",
     "output_type": "stream",
     "text": [
      "100%|██████████| 600/600 [00:15<00:00, 38.20it/s]\n"
     ]
    },
    {
     "name": "stdout",
     "output_type": "stream",
     "text": [
      "Epoch 42 of 100 with 15.71 s\n",
      "Generator loss: 2.00313330, Discriminator loss: 0.80115994\n"
     ]
    },
    {
     "name": "stderr",
     "output_type": "stream",
     "text": [
      "100%|██████████| 600/600 [00:15<00:00, 38.22it/s]\n"
     ]
    },
    {
     "name": "stdout",
     "output_type": "stream",
     "text": [
      "Epoch 43 of 100 with 15.70 s\n",
      "Generator loss: 1.92611710, Discriminator loss: 0.81674981\n"
     ]
    },
    {
     "name": "stderr",
     "output_type": "stream",
     "text": [
      "100%|██████████| 600/600 [00:15<00:00, 37.51it/s]\n"
     ]
    },
    {
     "name": "stdout",
     "output_type": "stream",
     "text": [
      "Epoch 44 of 100 with 16.00 s\n",
      "Generator loss: 1.87140844, Discriminator loss: 0.81286441\n"
     ]
    },
    {
     "name": "stderr",
     "output_type": "stream",
     "text": [
      "100%|██████████| 600/600 [00:16<00:00, 37.45it/s]\n"
     ]
    },
    {
     "name": "stdout",
     "output_type": "stream",
     "text": [
      "Epoch 45 of 100 with 16.03 s\n",
      "Generator loss: 1.87243565, Discriminator loss: 0.81862094\n"
     ]
    },
    {
     "name": "stderr",
     "output_type": "stream",
     "text": [
      "100%|██████████| 600/600 [00:15<00:00, 37.60it/s]\n"
     ]
    },
    {
     "name": "stdout",
     "output_type": "stream",
     "text": [
      "Epoch 46 of 100 with 15.97 s\n",
      "Generator loss: 2.01929426, Discriminator loss: 0.78132308\n"
     ]
    },
    {
     "name": "stderr",
     "output_type": "stream",
     "text": [
      "100%|██████████| 600/600 [00:15<00:00, 39.07it/s]\n"
     ]
    },
    {
     "name": "stdout",
     "output_type": "stream",
     "text": [
      "Epoch 47 of 100 with 15.36 s\n",
      "Generator loss: 1.89128239, Discriminator loss: 0.82022217\n"
     ]
    },
    {
     "name": "stderr",
     "output_type": "stream",
     "text": [
      "100%|██████████| 600/600 [00:15<00:00, 38.52it/s]\n"
     ]
    },
    {
     "name": "stdout",
     "output_type": "stream",
     "text": [
      "Epoch 48 of 100 with 15.58 s\n",
      "Generator loss: 1.84145605, Discriminator loss: 0.82768884\n"
     ]
    },
    {
     "name": "stderr",
     "output_type": "stream",
     "text": [
      "100%|██████████| 600/600 [00:16<00:00, 37.35it/s]\n"
     ]
    },
    {
     "name": "stdout",
     "output_type": "stream",
     "text": [
      "Epoch 49 of 100 with 16.07 s\n",
      "Generator loss: 1.76112698, Discriminator loss: 0.84281696\n"
     ]
    },
    {
     "name": "stderr",
     "output_type": "stream",
     "text": [
      "100%|██████████| 600/600 [00:16<00:00, 37.32it/s]\n"
     ]
    },
    {
     "name": "stdout",
     "output_type": "stream",
     "text": [
      "Epoch 50 of 100 with 16.08 s\n",
      "Generator loss: 1.79215457, Discriminator loss: 0.85633837\n"
     ]
    },
    {
     "name": "stderr",
     "output_type": "stream",
     "text": [
      "100%|██████████| 600/600 [00:15<00:00, 38.43it/s]\n"
     ]
    },
    {
     "name": "stdout",
     "output_type": "stream",
     "text": [
      "Epoch 51 of 100 with 15.62 s\n",
      "Generator loss: 1.71262687, Discriminator loss: 0.88165705\n"
     ]
    },
    {
     "name": "stderr",
     "output_type": "stream",
     "text": [
      "100%|██████████| 600/600 [00:15<00:00, 39.70it/s]\n"
     ]
    },
    {
     "name": "stdout",
     "output_type": "stream",
     "text": [
      "Epoch 52 of 100 with 15.12 s\n",
      "Generator loss: 1.72784602, Discriminator loss: 0.87129255\n"
     ]
    },
    {
     "name": "stderr",
     "output_type": "stream",
     "text": [
      "100%|██████████| 600/600 [00:15<00:00, 37.88it/s]\n"
     ]
    },
    {
     "name": "stdout",
     "output_type": "stream",
     "text": [
      "Epoch 53 of 100 with 15.84 s\n",
      "Generator loss: 1.67875054, Discriminator loss: 0.87727954\n"
     ]
    },
    {
     "name": "stderr",
     "output_type": "stream",
     "text": [
      "100%|██████████| 600/600 [00:15<00:00, 37.63it/s]\n"
     ]
    },
    {
     "name": "stdout",
     "output_type": "stream",
     "text": [
      "Epoch 54 of 100 with 15.95 s\n",
      "Generator loss: 1.62901699, Discriminator loss: 0.90436576\n"
     ]
    },
    {
     "name": "stderr",
     "output_type": "stream",
     "text": [
      "100%|██████████| 600/600 [00:16<00:00, 37.48it/s]\n"
     ]
    },
    {
     "name": "stdout",
     "output_type": "stream",
     "text": [
      "Epoch 55 of 100 with 16.01 s\n",
      "Generator loss: 1.62830437, Discriminator loss: 0.90696366\n"
     ]
    },
    {
     "name": "stderr",
     "output_type": "stream",
     "text": [
      "100%|██████████| 600/600 [00:14<00:00, 40.62it/s]\n"
     ]
    },
    {
     "name": "stdout",
     "output_type": "stream",
     "text": [
      "Epoch 56 of 100 with 14.78 s\n",
      "Generator loss: 1.60323249, Discriminator loss: 0.91094129\n"
     ]
    },
    {
     "name": "stderr",
     "output_type": "stream",
     "text": [
      "100%|██████████| 600/600 [00:16<00:00, 37.49it/s]\n"
     ]
    },
    {
     "name": "stdout",
     "output_type": "stream",
     "text": [
      "Epoch 57 of 100 with 16.01 s\n",
      "Generator loss: 1.61029278, Discriminator loss: 0.92223321\n"
     ]
    },
    {
     "name": "stderr",
     "output_type": "stream",
     "text": [
      "100%|██████████| 600/600 [00:16<00:00, 37.16it/s]\n"
     ]
    },
    {
     "name": "stdout",
     "output_type": "stream",
     "text": [
      "Epoch 58 of 100 with 16.15 s\n",
      "Generator loss: 1.58156163, Discriminator loss: 0.92485348\n"
     ]
    },
    {
     "name": "stderr",
     "output_type": "stream",
     "text": [
      "100%|██████████| 600/600 [00:14<00:00, 40.31it/s]\n"
     ]
    },
    {
     "name": "stdout",
     "output_type": "stream",
     "text": [
      "Epoch 59 of 100 with 14.89 s\n",
      "Generator loss: 1.58920869, Discriminator loss: 0.91824956\n"
     ]
    },
    {
     "name": "stderr",
     "output_type": "stream",
     "text": [
      "100%|██████████| 600/600 [00:15<00:00, 37.79it/s]\n"
     ]
    },
    {
     "name": "stdout",
     "output_type": "stream",
     "text": [
      "Epoch 60 of 100 with 15.88 s\n",
      "Generator loss: 1.63215959, Discriminator loss: 0.90322990\n"
     ]
    },
    {
     "name": "stderr",
     "output_type": "stream",
     "text": [
      "100%|██████████| 600/600 [00:13<00:00, 42.97it/s]\n"
     ]
    },
    {
     "name": "stdout",
     "output_type": "stream",
     "text": [
      "Epoch 61 of 100 with 13.97 s\n",
      "Generator loss: 1.59241841, Discriminator loss: 0.92052912\n"
     ]
    },
    {
     "name": "stderr",
     "output_type": "stream",
     "text": [
      "100%|██████████| 600/600 [00:15<00:00, 37.97it/s]\n"
     ]
    },
    {
     "name": "stdout",
     "output_type": "stream",
     "text": [
      "Epoch 62 of 100 with 15.80 s\n",
      "Generator loss: 1.56885693, Discriminator loss: 0.92777510\n"
     ]
    },
    {
     "name": "stderr",
     "output_type": "stream",
     "text": [
      "100%|██████████| 600/600 [00:14<00:00, 42.58it/s]\n"
     ]
    },
    {
     "name": "stdout",
     "output_type": "stream",
     "text": [
      "Epoch 63 of 100 with 14.09 s\n",
      "Generator loss: 1.55704901, Discriminator loss: 0.93177816\n"
     ]
    },
    {
     "name": "stderr",
     "output_type": "stream",
     "text": [
      "100%|██████████| 600/600 [00:14<00:00, 40.14it/s]\n"
     ]
    },
    {
     "name": "stdout",
     "output_type": "stream",
     "text": [
      "Epoch 64 of 100 with 14.95 s\n",
      "Generator loss: 1.59686320, Discriminator loss: 0.91912055\n"
     ]
    },
    {
     "name": "stderr",
     "output_type": "stream",
     "text": [
      "100%|██████████| 600/600 [00:15<00:00, 38.18it/s]\n"
     ]
    },
    {
     "name": "stdout",
     "output_type": "stream",
     "text": [
      "Epoch 65 of 100 with 15.72 s\n",
      "Generator loss: 1.55941202, Discriminator loss: 0.94850314\n"
     ]
    },
    {
     "name": "stderr",
     "output_type": "stream",
     "text": [
      "100%|██████████| 600/600 [00:16<00:00, 37.12it/s]\n"
     ]
    },
    {
     "name": "stdout",
     "output_type": "stream",
     "text": [
      "Epoch 66 of 100 with 16.17 s\n",
      "Generator loss: 1.52927587, Discriminator loss: 0.94243723\n"
     ]
    },
    {
     "name": "stderr",
     "output_type": "stream",
     "text": [
      "100%|██████████| 600/600 [00:15<00:00, 38.38it/s]\n"
     ]
    },
    {
     "name": "stdout",
     "output_type": "stream",
     "text": [
      "Epoch 67 of 100 with 15.64 s\n",
      "Generator loss: 1.52632346, Discriminator loss: 0.94322613\n"
     ]
    },
    {
     "name": "stderr",
     "output_type": "stream",
     "text": [
      "100%|██████████| 600/600 [00:15<00:00, 38.03it/s]\n"
     ]
    },
    {
     "name": "stdout",
     "output_type": "stream",
     "text": [
      "Epoch 68 of 100 with 15.78 s\n",
      "Generator loss: 1.52223722, Discriminator loss: 0.95499016\n"
     ]
    },
    {
     "name": "stderr",
     "output_type": "stream",
     "text": [
      "100%|██████████| 600/600 [00:16<00:00, 37.45it/s]\n"
     ]
    },
    {
     "name": "stdout",
     "output_type": "stream",
     "text": [
      "Epoch 69 of 100 with 16.03 s\n",
      "Generator loss: 1.54296062, Discriminator loss: 0.94419835\n"
     ]
    },
    {
     "name": "stderr",
     "output_type": "stream",
     "text": [
      "100%|██████████| 600/600 [00:16<00:00, 37.19it/s]\n"
     ]
    },
    {
     "name": "stdout",
     "output_type": "stream",
     "text": [
      "Epoch 70 of 100 with 16.14 s\n",
      "Generator loss: 1.50743449, Discriminator loss: 0.95351017\n"
     ]
    },
    {
     "name": "stderr",
     "output_type": "stream",
     "text": [
      "100%|██████████| 600/600 [00:16<00:00, 37.49it/s]\n"
     ]
    },
    {
     "name": "stdout",
     "output_type": "stream",
     "text": [
      "Epoch 71 of 100 with 16.01 s\n",
      "Generator loss: 1.49816158, Discriminator loss: 0.95603216\n"
     ]
    },
    {
     "name": "stderr",
     "output_type": "stream",
     "text": [
      "100%|██████████| 600/600 [00:15<00:00, 37.63it/s]\n"
     ]
    },
    {
     "name": "stdout",
     "output_type": "stream",
     "text": [
      "Epoch 72 of 100 with 15.95 s\n",
      "Generator loss: 1.54887112, Discriminator loss: 0.94864016\n"
     ]
    },
    {
     "name": "stderr",
     "output_type": "stream",
     "text": [
      "100%|██████████| 600/600 [00:15<00:00, 37.54it/s]\n"
     ]
    },
    {
     "name": "stdout",
     "output_type": "stream",
     "text": [
      "Epoch 73 of 100 with 15.99 s\n",
      "Generator loss: 1.51727852, Discriminator loss: 0.95481175\n"
     ]
    },
    {
     "name": "stderr",
     "output_type": "stream",
     "text": [
      "100%|██████████| 600/600 [00:15<00:00, 38.31it/s]\n"
     ]
    },
    {
     "name": "stdout",
     "output_type": "stream",
     "text": [
      "Epoch 74 of 100 with 15.66 s\n",
      "Generator loss: 1.49967531, Discriminator loss: 0.96431799\n"
     ]
    },
    {
     "name": "stderr",
     "output_type": "stream",
     "text": [
      "100%|██████████| 600/600 [00:15<00:00, 37.72it/s]\n"
     ]
    },
    {
     "name": "stdout",
     "output_type": "stream",
     "text": [
      "Epoch 75 of 100 with 15.91 s\n",
      "Generator loss: 1.46658246, Discriminator loss: 0.97248086\n"
     ]
    },
    {
     "name": "stderr",
     "output_type": "stream",
     "text": [
      "100%|██████████| 600/600 [00:16<00:00, 37.40it/s]\n"
     ]
    },
    {
     "name": "stdout",
     "output_type": "stream",
     "text": [
      "Epoch 76 of 100 with 16.05 s\n",
      "Generator loss: 1.48370487, Discriminator loss: 0.97688120\n"
     ]
    },
    {
     "name": "stderr",
     "output_type": "stream",
     "text": [
      "100%|██████████| 600/600 [00:16<00:00, 36.89it/s]\n"
     ]
    },
    {
     "name": "stdout",
     "output_type": "stream",
     "text": [
      "Epoch 77 of 100 with 16.27 s\n",
      "Generator loss: 1.47935062, Discriminator loss: 0.96685139\n"
     ]
    },
    {
     "name": "stderr",
     "output_type": "stream",
     "text": [
      "100%|██████████| 600/600 [00:15<00:00, 38.72it/s]\n"
     ]
    },
    {
     "name": "stdout",
     "output_type": "stream",
     "text": [
      "Epoch 78 of 100 with 15.50 s\n",
      "Generator loss: 1.49203976, Discriminator loss: 0.97325695\n"
     ]
    },
    {
     "name": "stderr",
     "output_type": "stream",
     "text": [
      "100%|██████████| 600/600 [00:16<00:00, 37.21it/s]\n"
     ]
    },
    {
     "name": "stdout",
     "output_type": "stream",
     "text": [
      "Epoch 79 of 100 with 16.13 s\n",
      "Generator loss: 1.47547095, Discriminator loss: 0.97565897\n"
     ]
    },
    {
     "name": "stderr",
     "output_type": "stream",
     "text": [
      "100%|██████████| 600/600 [00:16<00:00, 37.10it/s]\n"
     ]
    },
    {
     "name": "stdout",
     "output_type": "stream",
     "text": [
      "Epoch 80 of 100 with 16.18 s\n",
      "Generator loss: 1.44367443, Discriminator loss: 0.98789947\n"
     ]
    },
    {
     "name": "stderr",
     "output_type": "stream",
     "text": [
      "100%|██████████| 600/600 [00:15<00:00, 38.73it/s]\n"
     ]
    },
    {
     "name": "stdout",
     "output_type": "stream",
     "text": [
      "Epoch 81 of 100 with 15.50 s\n",
      "Generator loss: 1.48243346, Discriminator loss: 0.97511221\n"
     ]
    },
    {
     "name": "stderr",
     "output_type": "stream",
     "text": [
      "100%|██████████| 600/600 [00:16<00:00, 37.15it/s]\n"
     ]
    },
    {
     "name": "stdout",
     "output_type": "stream",
     "text": [
      "Epoch 82 of 100 with 16.16 s\n",
      "Generator loss: 1.45248507, Discriminator loss: 0.97951932\n"
     ]
    },
    {
     "name": "stderr",
     "output_type": "stream",
     "text": [
      "100%|██████████| 600/600 [00:16<00:00, 37.33it/s]\n"
     ]
    },
    {
     "name": "stdout",
     "output_type": "stream",
     "text": [
      "Epoch 83 of 100 with 16.08 s\n",
      "Generator loss: 1.47752750, Discriminator loss: 0.97940316\n"
     ]
    },
    {
     "name": "stderr",
     "output_type": "stream",
     "text": [
      "100%|██████████| 600/600 [00:16<00:00, 37.33it/s]\n"
     ]
    },
    {
     "name": "stdout",
     "output_type": "stream",
     "text": [
      "Epoch 84 of 100 with 16.08 s\n",
      "Generator loss: 1.44580571, Discriminator loss: 0.98811576\n"
     ]
    },
    {
     "name": "stderr",
     "output_type": "stream",
     "text": [
      "100%|██████████| 600/600 [00:14<00:00, 40.71it/s]\n"
     ]
    },
    {
     "name": "stdout",
     "output_type": "stream",
     "text": [
      "Epoch 85 of 100 with 14.74 s\n",
      "Generator loss: 1.45800879, Discriminator loss: 0.98316143\n"
     ]
    },
    {
     "name": "stderr",
     "output_type": "stream",
     "text": [
      "100%|██████████| 600/600 [00:15<00:00, 39.66it/s]\n"
     ]
    },
    {
     "name": "stdout",
     "output_type": "stream",
     "text": [
      "Epoch 86 of 100 with 15.13 s\n",
      "Generator loss: 1.46540830, Discriminator loss: 0.98869112\n"
     ]
    },
    {
     "name": "stderr",
     "output_type": "stream",
     "text": [
      "100%|██████████| 600/600 [00:16<00:00, 37.15it/s]\n"
     ]
    },
    {
     "name": "stdout",
     "output_type": "stream",
     "text": [
      "Epoch 87 of 100 with 16.15 s\n",
      "Generator loss: 1.46316896, Discriminator loss: 0.98591459\n"
     ]
    },
    {
     "name": "stderr",
     "output_type": "stream",
     "text": [
      "100%|██████████| 600/600 [00:15<00:00, 37.78it/s]\n"
     ]
    },
    {
     "name": "stdout",
     "output_type": "stream",
     "text": [
      "Epoch 88 of 100 with 15.89 s\n",
      "Generator loss: 1.44485414, Discriminator loss: 0.99221110\n"
     ]
    },
    {
     "name": "stderr",
     "output_type": "stream",
     "text": [
      "100%|██████████| 600/600 [00:13<00:00, 43.29it/s]\n"
     ]
    },
    {
     "name": "stdout",
     "output_type": "stream",
     "text": [
      "Epoch 89 of 100 with 13.86 s\n",
      "Generator loss: 1.46869425, Discriminator loss: 0.98722724\n"
     ]
    },
    {
     "name": "stderr",
     "output_type": "stream",
     "text": [
      "100%|██████████| 600/600 [00:15<00:00, 37.85it/s]\n"
     ]
    },
    {
     "name": "stdout",
     "output_type": "stream",
     "text": [
      "Epoch 90 of 100 with 15.86 s\n",
      "Generator loss: 1.47531437, Discriminator loss: 0.97782959\n"
     ]
    },
    {
     "name": "stderr",
     "output_type": "stream",
     "text": [
      "100%|██████████| 600/600 [00:15<00:00, 38.02it/s]\n"
     ]
    },
    {
     "name": "stdout",
     "output_type": "stream",
     "text": [
      "Epoch 91 of 100 with 15.79 s\n",
      "Generator loss: 1.46945499, Discriminator loss: 0.99013926\n"
     ]
    },
    {
     "name": "stderr",
     "output_type": "stream",
     "text": [
      "100%|██████████| 600/600 [00:16<00:00, 37.42it/s]\n"
     ]
    },
    {
     "name": "stdout",
     "output_type": "stream",
     "text": [
      "Epoch 92 of 100 with 16.04 s\n",
      "Generator loss: 1.45828884, Discriminator loss: 0.98505998\n"
     ]
    },
    {
     "name": "stderr",
     "output_type": "stream",
     "text": [
      "100%|██████████| 600/600 [00:12<00:00, 49.42it/s]\n"
     ]
    },
    {
     "name": "stdout",
     "output_type": "stream",
     "text": [
      "Epoch 93 of 100 with 12.15 s\n",
      "Generator loss: 1.48750064, Discriminator loss: 0.97929367\n"
     ]
    },
    {
     "name": "stderr",
     "output_type": "stream",
     "text": [
      "100%|██████████| 600/600 [00:15<00:00, 37.82it/s]\n"
     ]
    },
    {
     "name": "stdout",
     "output_type": "stream",
     "text": [
      "Epoch 94 of 100 with 15.87 s\n",
      "Generator loss: 1.45544100, Discriminator loss: 0.98402325\n"
     ]
    },
    {
     "name": "stderr",
     "output_type": "stream",
     "text": [
      "100%|██████████| 600/600 [00:16<00:00, 37.45it/s]\n"
     ]
    },
    {
     "name": "stdout",
     "output_type": "stream",
     "text": [
      "Epoch 95 of 100 with 16.02 s\n",
      "Generator loss: 1.49685481, Discriminator loss: 0.98048035\n"
     ]
    },
    {
     "name": "stderr",
     "output_type": "stream",
     "text": [
      "100%|██████████| 600/600 [00:16<00:00, 36.54it/s]\n"
     ]
    },
    {
     "name": "stdout",
     "output_type": "stream",
     "text": [
      "Epoch 96 of 100 with 16.42 s\n",
      "Generator loss: 1.46038435, Discriminator loss: 0.98403911\n"
     ]
    },
    {
     "name": "stderr",
     "output_type": "stream",
     "text": [
      "100%|██████████| 600/600 [00:16<00:00, 36.91it/s]\n"
     ]
    },
    {
     "name": "stdout",
     "output_type": "stream",
     "text": [
      "Epoch 97 of 100 with 16.26 s\n",
      "Generator loss: 1.44886596, Discriminator loss: 0.98556325\n"
     ]
    },
    {
     "name": "stderr",
     "output_type": "stream",
     "text": [
      "100%|██████████| 600/600 [00:16<00:00, 37.26it/s]\n"
     ]
    },
    {
     "name": "stdout",
     "output_type": "stream",
     "text": [
      "Epoch 98 of 100 with 16.11 s\n",
      "Generator loss: 1.44278876, Discriminator loss: 0.99433300\n"
     ]
    },
    {
     "name": "stderr",
     "output_type": "stream",
     "text": [
      "100%|██████████| 600/600 [00:15<00:00, 37.83it/s]\n"
     ]
    },
    {
     "name": "stdout",
     "output_type": "stream",
     "text": [
      "Epoch 99 of 100 with 15.87 s\n",
      "Generator loss: 1.45800409, Discriminator loss: 0.98725534\n"
     ]
    },
    {
     "name": "stderr",
     "output_type": "stream",
     "text": [
      "100%|██████████| 600/600 [00:16<00:00, 37.34it/s]\n"
     ]
    },
    {
     "name": "stdout",
     "output_type": "stream",
     "text": [
      "Epoch 100 of 100 with 16.07 s\n",
      "Generator loss: 1.45345596, Discriminator loss: 0.99485424\n",
      "Avg per epoch ptime: 15.56, total 100 epochs ptime: 1618.02\n",
      "Training finish!... save training results\n"
     ]
    }
   ],
   "source": [
    "if __name__ == '__main__':\n",
    "    # initialise the device for training, if gpu is available, device = 'cuda', else: device = 'cpu'\n",
    "    device = torch.device('cuda' if torch.cuda.is_available() else 'cpu')\n",
    "    data_dir = './MNIST_data/'\n",
    "    save_dir = './MNIST_GAN_results/'\n",
    "    image_save_dir = './MNIST_GAN_results/results'\n",
    "\n",
    "    # create folder if not exist\n",
    "    if not os.path.exists(save_dir):\n",
    "        os.mkdir(save_dir)\n",
    "    if not os.path.exists(image_save_dir):\n",
    "        os.mkdir(image_save_dir)\n",
    "\n",
    "    # training parameters\n",
    "    batch_size = 100\n",
    "    learning_rate = 0.0002\n",
    "    epochs = 100\n",
    "\n",
    "    # parameters for Models\n",
    "    image_size = 28\n",
    "    G_input_dim = 100\n",
    "    G_output_dim = image_size * image_size\n",
    "    D_input_dim = image_size * image_size\n",
    "    D_output_dim = 1\n",
    "\n",
    "    # construct the dataset and data loader\n",
    "    transform = transforms.Compose([transforms.ToTensor(),\n",
    "                                    transforms.Normalize(mean=(0.5,), std=(0.5,))])\n",
    "    train_data = datasets.MNIST(root=data_dir, train=True, transform=transform, download=True)\n",
    "    train_loader = DataLoader(dataset=train_data, batch_size=batch_size, shuffle=True)\n",
    "\n",
    "    # declare the generator and discriminator networks    \n",
    "    G_net = Generator(G_input_dim, G_output_dim).to(device)\n",
    "    D_net = Discriminator(D_input_dim, D_output_dim).to(device)\n",
    "\n",
    "    # Binary Cross Entropy Loss function\n",
    "    criterion = nn.BCELoss().to(device)\n",
    "\n",
    "    # Initialise the Optimizers\n",
    "    G_optimizer = torch.optim.Adam(G_net.parameters(), lr=learning_rate)\n",
    "    D_optimizer = torch.optim.Adam(D_net.parameters(), lr=learning_rate)\n",
    "\n",
    "    # tracking variables\n",
    "    train_hist = {}\n",
    "    train_hist['D_losses'] = []\n",
    "    train_hist['G_losses'] = []\n",
    "    train_hist['per_epoch_ptimes'] = []\n",
    "    train_hist['total_ptime'] = []\n",
    "\n",
    "    start_time = time.time()\n",
    "    # training loop\n",
    "    for epoch in range(epochs):\n",
    "        G_net.train()\n",
    "        D_net.train()\n",
    "        Loss_G = []\n",
    "        Loss_D = []\n",
    "        epoch_start_time = time.time()\n",
    "        for (image, _) in tqdm(train_loader):\n",
    "            image = image.to(device)\n",
    "            b_size = len(image)\n",
    "            # creat real and fake labels\n",
    "            real_label = torch.ones(b_size, 1).to(device)\n",
    "            fake_label = torch.zeros(b_size, 1).to(device)\n",
    "\n",
    "            # generate fake images \n",
    "            data_fake = G_net(create_noise(b_size, G_input_dim).to(device))\n",
    "            data_real = image.view(b_size, D_input_dim)\n",
    "\n",
    "            # --------train the discriminator network----------\n",
    "            # compute the loss for real and fake images\n",
    "            output_real = D_net(data_real)\n",
    "            output_fake = D_net(data_fake)\n",
    "            loss_real = criterion(output_real, real_label)\n",
    "            loss_fake = criterion(output_fake, fake_label)\n",
    "            loss_d = loss_real + loss_fake\n",
    "\n",
    "            # back propagation\n",
    "            D_optimizer.zero_grad()\n",
    "            loss_d.backward()\n",
    "            D_optimizer.step()\n",
    "\n",
    "            # -------- train the generator network-----------\n",
    "            data_fake = G_net(create_noise(b_size, G_input_dim).to(device))\n",
    "\n",
    "            # compute the loss for generator network\n",
    "            output_fake = D_net(data_fake)\n",
    "            loss_g = criterion(output_fake, real_label)\n",
    "\n",
    "            ## back propagation\n",
    "            G_optimizer.zero_grad()\n",
    "            loss_g.backward()\n",
    "            G_optimizer.step()\n",
    "\n",
    "            ## store the loss of each iter\n",
    "            Loss_D.append(loss_d.item())\n",
    "            Loss_G.append(loss_g.item())\n",
    "\n",
    "        epoch_loss_g = np.mean(Loss_G)  # mean generator loss for the epoch\n",
    "        epoch_loss_d = np.mean(Loss_D)  # mean discriminator loss for the epoch\n",
    "        epoch_end_time = time.time()\n",
    "        per_epoch_ptime = epoch_end_time - epoch_start_time\n",
    "\n",
    "        print(\"Epoch %d of %d with %.2f s\" % (epoch + 1, epochs, per_epoch_ptime))\n",
    "        print(\"Generator loss: %.8f, Discriminator loss: %.8f\" % (epoch_loss_g, epoch_loss_d))\n",
    "\n",
    "        path = image_save_dir + '/MNIST_GAN_' + str(epoch + 1) + '.png'\n",
    "        show_result(G_net, create_noise(25, 100).to(device), (epoch + 1), save=True, path=path)\n",
    "\n",
    "        # record the loss for every epoch\n",
    "        train_hist['G_losses'].append(epoch_loss_g)\n",
    "        train_hist['D_losses'].append(epoch_loss_d)\n",
    "        train_hist['per_epoch_ptimes'].append(per_epoch_ptime)\n",
    "\n",
    "    end_time = time.time()\n",
    "    total_ptime = end_time - start_time\n",
    "    train_hist['total_ptime'].append(total_ptime)\n",
    "\n",
    "    print('Avg per epoch ptime: %.2f, total %d epochs ptime: %.2f' % (\n",
    "        np.mean(train_hist['per_epoch_ptimes']), epochs, total_ptime))\n",
    "    print(\"Training finish!... save training results\")\n",
    "    with open(save_dir + '/train_hist.pkl', 'wb') as f:\n",
    "        pickle.dump(train_hist, f)\n",
    "    show_train_hist(train_hist, save=True, path=save_dir + '/MNIST_GAN_train_hist.png')"
   ]
  }
 ],
 "metadata": {
  "kernelspec": {
   "display_name": "Python 3 (ipykernel)",
   "language": "python",
   "name": "python3"
  },
  "language_info": {
   "codemirror_mode": {
    "name": "ipython",
    "version": 3
   },
   "file_extension": ".py",
   "mimetype": "text/x-python",
   "name": "python",
   "nbconvert_exporter": "python",
   "pygments_lexer": "ipython3",
   "version": "3.10.5"
  }
 },
 "nbformat": 4,
 "nbformat_minor": 5
}
